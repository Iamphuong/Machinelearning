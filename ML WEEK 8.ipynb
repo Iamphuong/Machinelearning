{
 "cells": [
  {
   "cell_type": "code",
   "execution_count": 1,
   "metadata": {},
   "outputs": [],
   "source": [
    "import numpy as np\n",
    "import matplotlib.pyplot as plt\n",
    "\n",
    "X = np.array([[1, 3], [2, 2], [3, 2], [4, 1], [4, 2], \n",
    "              [2, 6], [4, 6], [3, 7], [2, 8], [1, 9],\n",
    "              [8, 6], [9, 7], [7, 9], [10, 6], [8, 9],\n",
    "              [8, 4], [9, 1], [10, 3], [8, 3], [9, 3]])\n",
    "y = np.ones(20)\n",
    "y[:5] = 0"
   ]
  },
  {
   "cell_type": "code",
   "execution_count": 2,
   "metadata": {},
   "outputs": [],
   "source": [
    "def gini(t,v):\n",
    "    n=t+v\n",
    "    if n==0:\n",
    "        return 0\n",
    "    gin=1-((t/n)**2+(v/n)**2)\n",
    "    return gin\n"
   ]
  },
  {
   "cell_type": "code",
   "execution_count": 5,
   "metadata": {},
   "outputs": [],
   "source": [
    "L=[]\n",
    "def find(X,y):\n",
    "    M=[]\n",
    "    for i in range(1,11):\n",
    "        posi=y[X>i]\n",
    "        gin1=gini(len(posi[posi==0]),len(posi[posi==1]))\n",
    "\n",
    "        negi=y[X<=i]\n",
    "        gin2=gini(len(negi[negi==0]),len(negi[negi==1]))\n",
    "\n",
    "        gini_index= gini(5,15)-gin1*len(posi)/X.shape[0]-gin2*len(negi)/X.shape[0]\n",
    "        M.append([i,gini_index])\n",
    "    L.append(M)\n",
    "    return L\n",
    "\n",
    "X1=X[:,0]\n",
    "X2=X[:,1]\n",
    "#L1=find(X1,y)\n",
    "L2=find(X2,y)\n",
    " \n",
    "    "
   ]
  },
  {
   "cell_type": "code",
   "execution_count": 6,
   "metadata": {},
   "outputs": [],
   "source": [
    "def find_divi(L,l):\n",
    "    max1=L[0][0][1]\n",
    "    for i in range(1,10):\n",
    "        if L[0][i][1]>=max1:\n",
    "            max1=L[0][i][1]\n",
    "        continue\n",
    "    ele1=[]\n",
    "    ele2=[]\n",
    "    for J in range(0,10):\n",
    "        if L[0][J][1]==max1:\n",
    "            ele1.append(J+1)\n",
    "        if l[0][J][1]==max1:\n",
    "            ele2.append(J+1)\n",
    "    return ele1,ele2\n",
    "\n",
    "\n",
    "def abc(a):\n",
    "    A=[]\n",
    "    B=[]\n",
    "    for i in a[0]:\n",
    "        if len(X[X[:,0]==i])==0:\n",
    "            A.append(i)\n",
    "    for j in a[1]:\n",
    "        if len(X[X[:,1]==j])==0:\n",
    "            B.append(j)\n",
    "    return  A, B\n",
    "a=find_divi(L1,L2)\n",
    "b=abc(a)\n"
   ]
  },
  {
   "cell_type": "code",
   "execution_count": 7,
   "metadata": {},
   "outputs": [
    {
     "data": {
      "text/plain": [
       "0"
      ]
     },
     "execution_count": 7,
     "metadata": {},
     "output_type": "execute_result"
    }
   ],
   "source": [
    "def classi(data):\n",
    "    if data[0]>b[0][0] or data[0]>b[0][1]:\n",
    "        return 1\n",
    "    else:\n",
    "        if data[1]<=b[1]:\n",
    "             return 0\n",
    "x=np.array([2,3])  \n",
    "classi(x)    "
   ]
  },
  {
   "cell_type": "code",
   "execution_count": 8,
   "metadata": {},
   "outputs": [
    {
     "data": {
      "image/png": "[encoded data removed]",
      "text/plain": [
       "<Figure size 432x288 with 1 Axes>"
      ]
     },
     "metadata": {
      "needs_background": "light"
     },
     "output_type": "display_data"
    }
   ],
   "source": [
    "fig = plt.figure()\n",
    "ax = plt.axes()\n",
    "plt.scatter(X[:, 0], X[:, 1], c=y)\n",
    "\n",
    "plt.axvline(x=b[0][0], ymin=0, ymax=1, color='b', lw=1.5, label='boudary')\n",
    "plt.axhline(y=b[1], xmin=0, xmax=0.45, color='b', lw=1.5)\n",
    "plt.show()"
   ]
  },
  {
   "cell_type": "code",
   "execution_count": 9,
   "metadata": {},
   "outputs": [],
   "source": [
    "import pandas as pd\n",
    "X=pd.read_csv('salary.csv')\n",
    "Y=X['Cho vay']\n",
    "X=X.drop(labels='Cho vay',axis=1)"
   ]
  },
  {
   "cell_type": "code",
   "execution_count": 10,
   "metadata": {},
   "outputs": [],
   "source": [
    "from sklearn.preprocessing import StandardScaler\n",
    "scaler = StandardScaler()\n",
    "X_stand = scaler.fit_transform(X)\n",
    "cols = ['Lương','Thời gian làm việc']\n",
    "X=pd.DataFrame(data=X_stand,columns=cols)\n"
   ]
  },
  {
   "cell_type": "code",
   "execution_count": 14,
   "metadata": {},
   "outputs": [],
   "source": [
    "L=[]\n",
    "d=[-1,-0.5,0,0.5,1,1.5,2]\n",
    "def find(X,y):\n",
    "    M=[]\n",
    "    for i in d  :\n",
    "        posi=y[X>i]\n",
    "        gin1=gini(len(posi[posi==0]),len(posi[posi==1]))\n",
    "\n",
    "        negi=y[X<=i]\n",
    "        gin2=gini(len(negi[negi==0]),len(negi[negi==1]))\n",
    "\n",
    "        gini_index= gini(10,10)-gin1*len(posi)/X.shape[0]-gin2*len(negi)/X.shape[0]\n",
    "        M.append([i,gini_index])\n",
    "    L.append(M)\n",
    "    return L\n",
    "\n",
    "X1=X['Lương']\n",
    "X2=X['Thời gian làm việc']\n",
    "L1=find(X1,y)\n",
    "#L2=find(X2,y)\n",
    " \n",
    "    "
   ]
  },
  {
   "cell_type": "code",
   "execution_count": 15,
   "metadata": {},
   "outputs": [],
   "source": [
    "def find_divi(L,l):\n",
    "    max1=L[0][0][1]\n",
    "    max2=l[0][0][1]\n",
    "    for i in range(0,7):\n",
    "        if L[0][i][1]>=max1:\n",
    "            max1=L[0][i][1]\n",
    "        continue\n",
    "    ele1=[]\n",
    "    ele2=[]\n",
    "    for J in range(0,7):\n",
    "        if L[0][J][1]==max1:\n",
    "            ele1.append(L[0][J][0])\n",
    "        if l[0][J][1]>=0.17 and l[0][J][1] <=max1:\n",
    "            ele2.append(l[0][J][0])\n",
    "    return  ele1,ele2\n",
    "\n",
    "def abc(a):\n",
    "    A=[]\n",
    "    B=[]\n",
    "    for i in a[0]:\n",
    "        if len(X[X['Lương']==i])==0:\n",
    "            A.append(i)\n",
    "    for j in a[1]:\n",
    "        if len(X[X['Thời gian làm việc']==j])==0:\n",
    "            B.append(j)\n",
    "    return  A, B\n",
    "d=find_divi(L1,L2)\n",
    "b=abc(d)"
   ]
  },
  {
   "cell_type": "code",
   "execution_count": 16,
   "metadata": {},
   "outputs": [
    {
     "data": {
      "text/plain": [
       "1"
      ]
     },
     "execution_count": 16,
     "metadata": {},
     "output_type": "execute_result"
    }
   ],
   "source": [
    "from sklearn.preprocessing import normalize\n",
    "def classi(data):\n",
    "    if data[0]>b[0][0] or data[0]>b[0][1]:\n",
    "        return 1\n",
    "    else:\n",
    "        if data[1]<=b[1][1]:\n",
    "             return 0\n",
    "        return 1\n",
    "x=np.array([2,3])\n",
    "normalize(x[:,np.newaxis], axis=0).ravel()\n",
    "classi(x)    "
   ]
  },
  {
   "cell_type": "code",
   "execution_count": 18,
   "metadata": {},
   "outputs": [
    {
     "data": {
      "image/png": "[encoded data removed]",
      "text/plain": [
       "<Figure size 576x576 with 1 Axes>"
      ]
     },
     "metadata": {
      "needs_background": "light"
     },
     "output_type": "display_data"
    }
   ],
   "source": [
    "plt.figure(figsize=(8, 8))\n",
    "plt.scatter(X['Lương'],X['Thời gian làm việc'] ,c=Y)\n",
    "\n",
    "\n",
    "plt.axvline(x=b[0][0], ymin=0, ymax=1, color='b', lw=1.5, label='boudary')\n",
    "plt.axhline(y=b[1][1], xmin=0, xmax=0.8, color='b', lw=1.5)\n",
    "plt.show()\n"
   ]
  },
  {
   "cell_type": "code",
   "execution_count": null,
   "metadata": {},
   "outputs": [],
   "source": []
  }
 ],
 "metadata": {
  "kernelspec": {
   "display_name": "Python 3",
   "language": "python",
   "name": "python3"
  },
  "language_info": {
   "codemirror_mode": {
    "name": "ipython",
    "version": 3
   },
   "file_extension": ".py",
   "mimetype": "text/x-python",
   "name": "python",
   "nbconvert_exporter": "python",
   "pygments_lexer": "ipython3",
   "version": "3.8.3"
  }
 },
 "nbformat": 4,
 "nbformat_minor": 4
}
